{
 "cells": [
  {
   "cell_type": "code",
   "execution_count": 1,
   "id": "b90efc7a",
   "metadata": {},
   "outputs": [
    {
     "name": "stdout",
     "output_type": "stream",
     "text": [
      "Hello World\n"
     ]
    }
   ],
   "source": [
    "print(\"Hello World\")"
   ]
  },
  {
   "cell_type": "code",
   "execution_count": 22,
   "id": "6a3f1002",
   "metadata": {},
   "outputs": [
    {
     "name": "stdout",
     "output_type": "stream",
     "text": [
      "Enter a number:  4\n",
      "1\n",
      "12\n",
      "123\n",
      "1234\n"
     ]
    }
   ],
   "source": [
    "n = int(input(\"Enter a number:  \"))\n",
    "\n",
    "\n",
    "\n",
    "k=1\n",
    "for i in range(n):\n",
    "    for j in range(1, k+1, 1):\n",
    "        print(j, end='')\n",
    "    print('')    \n",
    "    k=k+1"
   ]
  },
  {
   "cell_type": "code",
   "execution_count": 27,
   "id": "affac0bb",
   "metadata": {},
   "outputs": [
    {
     "name": "stdout",
     "output_type": "stream",
     "text": [
      "Enter a string : Helo Ars\n",
      "oleH,srA\n"
     ]
    }
   ],
   "source": [
    "strt = input(\"Enter a string : \")\n",
    "\n",
    "e=str.split(strt)\n",
    "lst=[]\n",
    "\n",
    "for i in e:\n",
    "    c= ''.join(reversed(i))\n",
    "    lst.append(c)\n",
    "    \n",
    "t = ','.join(lst)\n",
    "\n",
    "print(t)"
   ]
  },
  {
   "cell_type": "code",
   "execution_count": 29,
   "id": "1fff64e1",
   "metadata": {},
   "outputs": [
    {
     "name": "stdout",
     "output_type": "stream",
     "text": [
      ",olleH I ma !lidaA \n"
     ]
    }
   ],
   "source": [
    "def rev_sentence(sentence):\n",
    "  \n",
    "    # first split the string into words\n",
    "    words = sentence.split(' ')\n",
    "    reverse_sentence=\"\"\n",
    "    for i in words:\n",
    "        reverse_sentence+=i[::-1]+' '\n",
    "    # then reverse the split string list and join using space\n",
    "    \n",
    "  \n",
    "    # finally return the joined string\n",
    "    return reverse_sentence\n",
    "  \n",
    "if __name__ == \"__main__\":\n",
    "    input = 'Hello, I am Aadil!'\n",
    "    print (rev_sentence(input))"
   ]
  },
  {
   "cell_type": "code",
   "execution_count": 2,
   "id": "8bdb3d80",
   "metadata": {},
   "outputs": [
    {
     "name": "stdout",
     "output_type": "stream",
     "text": [
      "1 \n",
      "3 2 \n",
      "4 5 6 \n",
      "10 9 8 7 \n",
      "11 12 13 14 15 \n",
      "21 20 19 18 17 16 \n",
      "22 23 24 25 26 27 28 \n"
     ]
    }
   ],
   "source": [
    "n = 7\n",
    "\n",
    "num = 1\n",
    "for i in range(1, n + 1):\n",
    "    for j in range(i):\n",
    "        if i % 2 == 0:\n",
    "            print(num + i - j - 1, end=\" \")\n",
    "        else:\n",
    "            print(num + j, end=\" \")\n",
    "    num += i\n",
    "    print()\n"
   ]
  },
  {
   "cell_type": "code",
   "execution_count": 4,
   "id": "bc47d96d",
   "metadata": {},
   "outputs": [
    {
     "data": {
      "text/plain": [
       "10"
      ]
     },
     "execution_count": 4,
     "metadata": {},
     "output_type": "execute_result"
    }
   ],
   "source": [
    "def even_fib_sum(N):\n",
    "    a, b = 0, 1\n",
    "    sum = 0\n",
    "    while a <= N:\n",
    "        if a % 2 == 0:\n",
    "            sum += a\n",
    "        a, b = b, a + b\n",
    "    return sum\n",
    "\n",
    "even_fib_sum(8)"
   ]
  },
  {
   "cell_type": "code",
   "execution_count": 5,
   "id": "4c441fca",
   "metadata": {},
   "outputs": [
    {
     "name": "stdout",
     "output_type": "stream",
     "text": [
      "Welcome to house\n",
      "house to Welcome\n"
     ]
    }
   ],
   "source": [
    "def reverse_words(s):\n",
    "    words = s.split()\n",
    "    words.reverse()\n",
    "    return \" \".join(words)\n",
    "\n",
    "\n",
    "s = input()\n",
    "print(reverse_words(s))\n"
   ]
  },
  {
   "cell_type": "code",
   "execution_count": 9,
   "id": "a88e0740",
   "metadata": {},
   "outputs": [
    {
     "name": "stdout",
     "output_type": "stream",
     "text": [
      "Enter length of array1: 6\n",
      "Enter length of array2: 5\n",
      "1\n",
      "5\n",
      "10\n",
      "15\n",
      "20\n",
      "25\n",
      "2\n",
      "4\n",
      "5\n",
      "9\n",
      "15\n",
      "[1, 5, 10, 15, 20, 25]\n",
      "[2, 4, 5, 9, 15]\n",
      "81\n"
     ]
    }
   ],
   "source": [
    "def max_sum_path(arr1, arr2):\n",
    "    i, j = 0, 0\n",
    "    m, n = len(arr1), len(arr2)\n",
    "    sum1, sum2 = 0, 0\n",
    "    max_sum = 0\n",
    "\n",
    "    while i < m and j < n:\n",
    "        if arr1[i] < arr2[j]:\n",
    "            sum1 += arr1[i]\n",
    "            i += 1\n",
    "        elif arr1[i] > arr2[j]:\n",
    "            sum2 += arr2[j]\n",
    "            j += 1\n",
    "        else:\n",
    "            max_sum += max(sum1, sum2) + arr1[i]\n",
    "            sum1, sum2 = 0, 0\n",
    "            i, j = i + 1, j + 1\n",
    "\n",
    "    while i < m:\n",
    "        sum1 += arr1[i]\n",
    "        i += 1\n",
    "    while j < n:\n",
    "        sum2 += arr2[j]\n",
    "        j += 1\n",
    "\n",
    "    max_sum += max(sum1, sum2)\n",
    "    return max_sum\n",
    "\n",
    "\n",
    "m = int(input(\"Enter length of array1: \"))\n",
    "n = int(input(\"Enter length of array2: \"))\n",
    "arr1 = []\n",
    "arr2 = []\n",
    "\n",
    "for i in range(0,m):\n",
    "    x=int(input())\n",
    "    arr1.insert(i,x)\n",
    "\n",
    "for j in range(0,n):\n",
    "    y=int(input())\n",
    "    arr2.insert(j,y)\n",
    "\n",
    "print(arr1)\n",
    "print(arr2)\n",
    "print(max_sum_path(arr1,arr2))\n"
   ]
  },
  {
   "cell_type": "code",
   "execution_count": 10,
   "id": "dad56620",
   "metadata": {},
   "outputs": [
    {
     "name": "stdout",
     "output_type": "stream",
     "text": [
      "5\n"
     ]
    }
   ],
   "source": [
    "def lengthOfLongestSubstring(s):\n",
    "    char_set = set()\n",
    "    max_len = 0\n",
    "    left = 0\n",
    "    right = 0\n",
    "    while right < len(s):\n",
    "        if s[right] not in char_set:\n",
    "            char_set.add(s[right])\n",
    "            right += 1\n",
    "            max_len = max(max_len, right - left)\n",
    "        else:\n",
    "            char_set.remove(s[left])\n",
    "            left += 1\n",
    "    return max_len\n",
    "\n",
    "\n",
    "s= 'abcdabceb'\n",
    "\n",
    "print(lengthOfLongestSubstring(s))"
   ]
  },
  {
   "cell_type": "code",
   "execution_count": null,
   "id": "b33ec2df",
   "metadata": {},
   "outputs": [],
   "source": [
    "A = int(input(list))"
   ]
  },
  {
   "cell_type": "code",
   "execution_count": null,
   "id": "7d2be240",
   "metadata": {},
   "outputs": [],
   "source": [
    "## Read input as specified in the question.\n",
    "## Print output as specified in the question.\n",
    "\n",
    "def find_leaders(arr):\n",
    "    n = len(arr)\n",
    "    leaders = []\n",
    "    for i in range(n-1, -1, -1):\n",
    "        if i == n-1:\n",
    "            leaders.append(arr[i])\n",
    "        else:\n",
    "            if arr[i] >= leaders[-1]:\n",
    "                leaders.append(arr[i])\n",
    "    return leaders[::-1]\n",
    "\n",
    "n = int(input())\n",
    "A = []\n",
    "for i in range(0,n):\n",
    "    A[i]= int(input())\n",
    "    \n",
    "print(find_leaders(A))\n",
    "\n",
    "\n",
    "\n"
   ]
  },
  {
   "cell_type": "code",
   "execution_count": null,
   "id": "6b61ab1a",
   "metadata": {},
   "outputs": [],
   "source": [
    "## Read input as specified in the question.\n",
    "## Print output as specified in the question.\n",
    "\n",
    "def LeaderinArray(arr, n):\n",
    "    for i in range(0,n):\n",
    "        k = arr[i]            # Initializing k with arr[i], to compare further elements with arr[i]\n",
    "        isBreak=0\n",
    "        for j in range(i+1,n):\n",
    "            if(arr[j]>=k):    # It means that k is not a leader because it is less\n",
    "                isBreak=1\n",
    "                break         # than or equal to an element that is on its right side\n",
    "        if(isBreak==0):\n",
    "            print(k,end=\" \")  # Print the leader\n",
    "\n",
    "arr = [3,12,34,2,0,-1]\n",
    "n = 6\n",
    "print(LeaderinArray(arr, n))\n"
   ]
  },
  {
   "cell_type": "code",
   "execution_count": null,
   "id": "e134fb73",
   "metadata": {},
   "outputs": [],
   "source": [
    "\n",
    "# Python function to print leaders in array\n",
    "def printLeaders(arr, size):\n",
    "    \n",
    "    max_from_right = arr[size-1]  \n",
    "    print (max_from_right,end=' ')   \n",
    "    for i in range( size-2, -1, -1):       \n",
    "        if max_from_right < arr[i]:       \n",
    "            print (arr[i],end=' ')\n",
    "            max_from_right = arr[i]\n",
    "         \n",
    "# Driver function\n",
    "arr = [16, 17, 4, 3, 5, 2]\n",
    "print(Leaders(arr, len(arr)))"
   ]
  },
  {
   "cell_type": "code",
   "execution_count": 9,
   "id": "17d92d01",
   "metadata": {},
   "outputs": [
    {
     "name": "stdout",
     "output_type": "stream",
     "text": [
      "['488', '344', '566']\n",
      "[488, 344, 566]\n"
     ]
    }
   ],
   "source": [
    "\n",
    "arr2=[]\n",
    "y = '488 344 566'\n",
    "arr1 = y.split(' ')\n",
    "\n",
    "for i in range(0, len(arr1)):\n",
    "    arr2.append(int(arr1[i]))\n",
    "print(arr1)\n",
    "print(arr2)"
   ]
  },
  {
   "cell_type": "code",
   "execution_count": 1,
   "id": "a177c099",
   "metadata": {},
   "outputs": [
    {
     "name": "stdout",
     "output_type": "stream",
     "text": [
      "[5, 5, 5, 5, 5, 5, 5, 5, 5, 5]\n"
     ]
    }
   ],
   "source": [
    "#Create 2d Array\n",
    "\n",
    "ld = [5 for i in range(10)]\n",
    "print(ld)"
   ]
  },
  {
   "cell_type": "code",
   "execution_count": 4,
   "id": "71a9d49b",
   "metadata": {},
   "outputs": [
    {
     "name": "stdout",
     "output_type": "stream",
     "text": [
      "[[3, 3, 3], [3, 3, 3], [3, 3, 3]]\n"
     ]
    }
   ],
   "source": [
    "ld1 = [[3 for j in range(3)] for i in range(3)]\n",
    "print(ld1)"
   ]
  },
  {
   "cell_type": "code",
   "execution_count": 5,
   "id": "dc86f495",
   "metadata": {},
   "outputs": [
    {
     "name": "stdout",
     "output_type": "stream",
     "text": [
      "[[0, 1, 2, 3, 4], [5, 6, 7, 8, 9], [10, 11, 12, 13, 14], [15, 16, 17, 18, 19], [20, 21, 22, 23, 24]]\n"
     ]
    }
   ],
   "source": [
    "ld2 = [[5*i+j for j in range(5)] for i in range(5)]\n",
    "print(ld2)"
   ]
  },
  {
   "cell_type": "code",
   "execution_count": 9,
   "id": "18ddf453",
   "metadata": {},
   "outputs": [
    {
     "name": "stdout",
     "output_type": "stream",
     "text": [
      "[0 1 2 3]\n"
     ]
    }
   ],
   "source": [
    "import numpy as np\n",
    "\n",
    "a = [0,1,2,3]\n",
    "arr= np.array(a)\n",
    "\n",
    "print(arr)"
   ]
  },
  {
   "cell_type": "code",
   "execution_count": null,
   "id": "73e176cf",
   "metadata": {},
   "outputs": [],
   "source": []
  }
 ],
 "metadata": {
  "kernelspec": {
   "display_name": "Python 3 (ipykernel)",
   "language": "python",
   "name": "python3"
  },
  "language_info": {
   "codemirror_mode": {
    "name": "ipython",
    "version": 3
   },
   "file_extension": ".py",
   "mimetype": "text/x-python",
   "name": "python",
   "nbconvert_exporter": "python",
   "pygments_lexer": "ipython3",
   "version": "3.9.13"
  }
 },
 "nbformat": 4,
 "nbformat_minor": 5
}
